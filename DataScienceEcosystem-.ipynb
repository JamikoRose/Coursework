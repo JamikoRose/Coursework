{
 "cells": [
  {
   "cell_type": "markdown",
   "id": "de58df61-8f6f-4660-aa07-67d8b546c26e",
   "metadata": {
    "jp-MarkdownHeadingCollapsed": true
   },
   "source": [
    "## Author\n",
    "Jamiko Rose"
   ]
  },
  {
   "cell_type": "markdown",
   "id": "42d0ed44-a136-499c-bea9-cf8802f7b591",
   "metadata": {},
   "source": [
    "# Data Science Tools and Ecosystem"
   ]
  },
  {
   "cell_type": "markdown",
   "id": "78a0ee55-67fa-41bc-bc2d-e7ce3ade8b07",
   "metadata": {},
   "source": [
    "In this notebook, Data Science Tools and Ecosystems are summarized."
   ]
  },
  {
   "cell_type": "markdown",
   "id": "882c945a-6822-45a1-952c-ee9ff6ac8973",
   "metadata": {},
   "source": [
    "**Objectives**:\n",
    "- List popular languages in data science\n",
    "- List popular libraries in data science\n",
    "- Execute computation using Python\n",
    "- Make a table using rows and pipes"
   ]
  },
  {
   "cell_type": "markdown",
   "id": "efdd0f22-9dc4-4b5b-a2c3-9b9638157ef4",
   "metadata": {},
   "source": [
    "Some of the most popular languages that Data Scientists use, in no particular order, are: \n",
    "\n",
    "1. Python\n",
    "2. R \n",
    "3. Julia\n",
    "4. Java\n",
    "5. SQL "
   ]
  },
  {
   "cell_type": "markdown",
   "id": "bc20e0e1-925c-4f08-bd2f-70b2b2e73b23",
   "metadata": {},
   "source": [
    "Some of the commonly used libraries by Data Scientists include: \n",
    "1. ggplot2\n",
    "2. tidyverse\n",
    "3. dplyr"
   ]
  },
  {
   "cell_type": "markdown",
   "id": "b36741b1-6b3f-4a7d-9c54-1d5a7663e79d",
   "metadata": {},
   "source": [
    "\n",
    "|Data Science Tools|\n",
    "|------------|\n",
    "| R |\n",
    "| Python |\n",
    "| SQL |"
   ]
  },
  {
   "cell_type": "markdown",
   "id": "dfcc3514-aaf6-4959-aa33-d8a2e52377b1",
   "metadata": {},
   "source": [
    "\n",
    "### Below are a few examples of evaluating arithmetic expressions in Python\n",
    "\n",
    "1. 15+494288=494,303 \n",
    "2. 23+473738=473,784 \n",
    "3. 684+62661=64,713 \n",
    "4. 38000000383+77229=1.52×10¹¹ \n",
    "5. 5389834783+5252719=2.695×10¹⁰ \n"
   ]
  },
  {
   "cell_type": "code",
   "execution_count": 6,
   "id": "a548379c-4fcf-4b48-b381-fc04604db520",
   "metadata": {},
   "outputs": [
    {
     "data": {
      "text/plain": [
       "17"
      ]
     },
     "execution_count": 6,
     "metadata": {},
     "output_type": "execute_result"
    }
   ],
   "source": [
    "#This is a simple arithmetic expression to multiply and then add integers\n",
    "\n",
    "(3*4)+5"
   ]
  },
  {
   "cell_type": "code",
   "execution_count": 7,
   "id": "1d5069b3-9ca1-4280-84e5-7acdcf592bb3",
   "metadata": {},
   "outputs": [
    {
     "data": {
      "text/plain": [
       "3.3333333333333335"
      ]
     },
     "execution_count": 7,
     "metadata": {},
     "output_type": "execute_result"
    }
   ],
   "source": [
    "#This will convert 200 minutes to hours by dividing by 60\n",
    "200/60"
   ]
  }
 ],
 "metadata": {
  "kernelspec": {
   "display_name": "anaconda-2024.02-py310",
   "language": "python",
   "name": "conda-env-anaconda-2024.02-py310-py"
  },
  "language_info": {
   "codemirror_mode": {
    "name": "ipython",
    "version": 3
   },
   "file_extension": ".py",
   "mimetype": "text/x-python",
   "name": "python",
   "nbconvert_exporter": "python",
   "pygments_lexer": "ipython3",
   "version": "3.10.14"
  }
 },
 "nbformat": 4,
 "nbformat_minor": 5
}
